{
  "nbformat": 4,
  "nbformat_minor": 0,
  "metadata": {
    "colab": {
      "provenance": [],
      "authorship_tag": "ABX9TyNSU3HztRFICzP/Sy4ROQr5",
      "include_colab_link": true
    },
    "kernelspec": {
      "name": "python3",
      "display_name": "Python 3"
    },
    "language_info": {
      "name": "python"
    }
  },
  "cells": [
    {
      "cell_type": "markdown",
      "metadata": {
        "id": "view-in-github",
        "colab_type": "text"
      },
      "source": [
        "<a href=\"https://colab.research.google.com/github/EryginYaroslav/AlgoSirius2024/blob/main/task_1.ipynb\" target=\"_parent\"><img src=\"https://colab.research.google.com/assets/colab-badge.svg\" alt=\"Open In Colab\"/></a>"
      ]
    },
    {
      "cell_type": "code",
      "execution_count": 2,
      "metadata": {
        "colab": {
          "base_uri": "https://localhost:8080/"
        },
        "id": "qIujhGLCAnba",
        "outputId": "50fdf8b6-4966-4858-fae6-623b7841d09b"
      },
      "outputs": [
        {
          "output_type": "stream",
          "name": "stdout",
          "text": [
            "Исходный список: [1, 2, 3, 4, 5]\n",
            "Реверсированный список: [5, 4, 3, 2, 1]\n"
          ]
        }
      ],
      "source": [
        "class Node:\n",
        "    def __init__(self, value):\n",
        "        self.value = value\n",
        "        self.next = None\n",
        "\n",
        "class LinkedList:\n",
        "    def __init__(self):\n",
        "        self.head = None\n",
        "\n",
        "    def append(self, value):\n",
        "        new_node = Node(value)\n",
        "        if not self.head:\n",
        "            self.head = new_node\n",
        "            return\n",
        "        current = self.head\n",
        "        while current.next:\n",
        "            current = current.next\n",
        "        current.next = new_node\n",
        "\n",
        "    def reverse(self):\n",
        "        prev = None\n",
        "        current = self.head\n",
        "        while current:\n",
        "            next_node = current.next\n",
        "            current.next = prev\n",
        "            prev = current\n",
        "            current = next_node\n",
        "        self.head = prev\n",
        "\n",
        "    def to_list(self):\n",
        "        result = []\n",
        "        current = self.head\n",
        "        while current:\n",
        "            result.append(current.value)\n",
        "            current = current.next\n",
        "        return result\n",
        "\n",
        "linked_list = LinkedList()\n",
        "for value in [1, 2, 3, 4, 5]:\n",
        "    linked_list.append(value)\n",
        "\n",
        "print(\"Исходный список:\", linked_list.to_list())\n",
        "linked_list.reverse()\n",
        "print(\"Реверсированный список:\", linked_list.to_list())\n"
      ]
    }
  ]
}