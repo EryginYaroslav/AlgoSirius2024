{
  "nbformat": 4,
  "nbformat_minor": 0,
  "metadata": {
    "colab": {
      "provenance": [],
      "authorship_tag": "ABX9TyPlagLnjEXIr1w0bKCwD9cr",
      "include_colab_link": true
    },
    "kernelspec": {
      "name": "python3",
      "display_name": "Python 3"
    },
    "language_info": {
      "name": "python"
    }
  },
  "cells": [
    {
      "cell_type": "markdown",
      "metadata": {
        "id": "view-in-github",
        "colab_type": "text"
      },
      "source": [
        "<a href=\"https://colab.research.google.com/github/EryginYaroslav/AlgoSirius2024/blob/main/task_6.ipynb\" target=\"_parent\"><img src=\"https://colab.research.google.com/assets/colab-badge.svg\" alt=\"Open In Colab\"/></a>"
      ]
    },
    {
      "cell_type": "code",
      "execution_count": 15,
      "metadata": {
        "colab": {
          "base_uri": "https://localhost:8080/"
        },
        "id": "qIujhGLCAnba",
        "outputId": "268f6c11-6991-4629-ffb8-c3530c88c630"
      },
      "outputs": [
        {
          "output_type": "stream",
          "name": "stdout",
          "text": [
            "День с максимальным количеством посетителей: 2024-09-15 (Количество: 2)\n"
          ]
        }
      ],
      "source": [
        "from collections import defaultdict\n",
        "from datetime import datetime, timedelta\n",
        "\n",
        "def max_visitors_day(data):\n",
        "    events = defaultdict(int)  # Словарь для хранения изменений в количестве посетителей.\n",
        "\n",
        "    # Разделяем события \"заезд\" и \"отъезд\".\n",
        "    for check_in, check_out in data:\n",
        "        events[check_in] += 1  # Увеличиваем на 1 в день заезда.\n",
        "        next_day = (datetime.strptime(check_out, \"%Y-%m-%d\") + timedelta(days=1)).strftime(\"%Y-%m-%d\")\n",
        "        events[next_day] -= 1  # Уменьшаем на 1 на следующий день после отъезда.\n",
        "\n",
        "    # Сортируем события по дате.\n",
        "    sorted_events = sorted(events.items(), key=lambda x: x[0])\n",
        "\n",
        "    # Подсчитываем количество посетителей на каждый день.\n",
        "    max_visitors = 0\n",
        "    current_visitors = 0\n",
        "    max_day = None\n",
        "\n",
        "    for date, change in sorted_events:\n",
        "        current_visitors += change\n",
        "        if current_visitors > max_visitors:\n",
        "            max_visitors = current_visitors\n",
        "            max_day = date\n",
        "\n",
        "    return max_day, max_visitors\n",
        "\n",
        "\n",
        "# Пример входных данных\n",
        "data = [(\"2024-09-15\", \"2024-09-15\"), (\"2024-09-14\", \"2024-09-21\")]\n",
        "\n",
        "# Результат\n",
        "result = max_visitors_day(data)\n",
        "print(f\"День с максимальным количеством посетителей: {result[0]} (Количество: {result[1]})\")\n"
      ]
    }
  ]
}