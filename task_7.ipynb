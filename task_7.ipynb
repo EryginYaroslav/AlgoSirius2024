{
  "nbformat": 4,
  "nbformat_minor": 0,
  "metadata": {
    "colab": {
      "provenance": [],
      "authorship_tag": "ABX9TyPiDSssA3JJK3ytNEm0+T2G",
      "include_colab_link": true
    },
    "kernelspec": {
      "name": "python3",
      "display_name": "Python 3"
    },
    "language_info": {
      "name": "python"
    }
  },
  "cells": [
    {
      "cell_type": "markdown",
      "metadata": {
        "id": "view-in-github",
        "colab_type": "text"
      },
      "source": [
        "<a href=\"https://colab.research.google.com/github/EryginYaroslav/AlgoSirius2024/blob/main/task_7.ipynb\" target=\"_parent\"><img src=\"https://colab.research.google.com/assets/colab-badge.svg\" alt=\"Open In Colab\"/></a>"
      ]
    },
    {
      "cell_type": "code",
      "execution_count": 16,
      "metadata": {
        "colab": {
          "base_uri": "https://localhost:8080/"
        },
        "id": "qIujhGLCAnba",
        "outputId": "0e360df8-ae9e-4662-d50d-6a1666b11f77"
      },
      "outputs": [
        {
          "output_type": "stream",
          "name": "stdout",
          "text": [
            "Кратчайшие расстояния от вершины 0 :\n",
            "Вершина 0: 0\n",
            "Вершина 1: -1\n",
            "Вершина 2: 2\n",
            "Вершина 3: -2\n",
            "Вершина 4: 1\n"
          ]
        }
      ],
      "source": [
        "class Graph:\n",
        "    def __init__(self, vertices):\n",
        "        self.vertices = vertices  # Количество вершин.\n",
        "        self.edges = []  # Список рёбер.\n",
        "\n",
        "    def add_edge(self, u, v, weight):\n",
        "        self.edges.append((u, v, weight))\n",
        "\n",
        "    def bellman_ford(self, source):\n",
        "        # Инициализация расстояний.\n",
        "        distances = [float('inf')] * self.vertices\n",
        "        distances[source] = 0\n",
        "\n",
        "        # Расслабление рёбер (|V| - 1) раз.\n",
        "        for _ in range(self.vertices - 1):\n",
        "            for u, v, weight in self.edges:\n",
        "                if distances[u] != float('inf') and distances[u] + weight < distances[v]:\n",
        "                    distances[v] = distances[u] + weight\n",
        "\n",
        "        # Проверка на наличие отрицательных циклов.\n",
        "        for u, v, weight in self.edges:\n",
        "            if distances[u] != float('inf') and distances[u] + weight < distances[v]:\n",
        "                return distances, True  # Найден отрицательный цикл.\n",
        "\n",
        "        return distances, False  # Расстояния корректны.\n",
        "\n",
        "# Пример использования.\n",
        "if __name__ == \"__main__\":\n",
        "    # Создаем граф с 5 вершинами.\n",
        "    g = Graph(5)\n",
        "\n",
        "    # Добавляем рёбра.\n",
        "    g.add_edge(0, 1, -1)\n",
        "    g.add_edge(0, 2, 4)\n",
        "    g.add_edge(1, 2, 3)\n",
        "    g.add_edge(1, 3, 2)\n",
        "    g.add_edge(1, 4, 2)\n",
        "    g.add_edge(3, 2, 5)\n",
        "    g.add_edge(3, 1, 1)\n",
        "    g.add_edge(4, 3, -3)\n",
        "\n",
        "    # Выполняем алгоритм Беллмана-Форда.\n",
        "    source = 0\n",
        "    distances, has_negative_cycle = g.bellman_ford(source)\n",
        "\n",
        "    # Вывод результатов.\n",
        "    if has_negative_cycle:\n",
        "        print(\"Граф содержит отрицательный цикл.\")\n",
        "    else:\n",
        "        print(\"Кратчайшие расстояния от вершины\", source, \":\")\n",
        "        for i in range(len(distances)):\n",
        "            print(f\"Вершина {i}: {distances[i]}\")\n"
      ]
    }
  ]
}