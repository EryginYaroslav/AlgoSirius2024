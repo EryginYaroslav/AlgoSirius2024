{
  "nbformat": 4,
  "nbformat_minor": 0,
  "metadata": {
    "colab": {
      "provenance": [],
      "authorship_tag": "ABX9TyPY30Dxg5unGra2OOx3mAw9",
      "include_colab_link": true
    },
    "kernelspec": {
      "name": "python3",
      "display_name": "Python 3"
    },
    "language_info": {
      "name": "python"
    }
  },
  "cells": [
    {
      "cell_type": "markdown",
      "metadata": {
        "id": "view-in-github",
        "colab_type": "text"
      },
      "source": [
        "<a href=\"https://colab.research.google.com/github/EryginYaroslav/AlgoSirius2024/blob/main/task_2.ipynb\" target=\"_parent\"><img src=\"https://colab.research.google.com/assets/colab-badge.svg\" alt=\"Open In Colab\"/></a>"
      ]
    },
    {
      "cell_type": "code",
      "execution_count": 21,
      "metadata": {
        "colab": {
          "base_uri": "https://localhost:8080/"
        },
        "id": "qIujhGLCAnba",
        "outputId": "02168d89-fdd0-4469-f73e-a38b7b4cabf2"
      },
      "outputs": [
        {
          "output_type": "stream",
          "name": "stdout",
          "text": [
            "1 10\n",
            "1 10 9 8 7 6 5 4 3 2\n",
            "4 1 10 9 8 7 6 5 3 2\n"
          ]
        }
      ],
      "source": [
        "def process_queries(n, a, d, features, q, queries):\n",
        "    # Вычисляем начальную релевантность\n",
        "    relevance = [sum(a[j] * features[i][j] for j in range(n)) for i in range(d)]\n",
        "\n",
        "    results = []\n",
        "    for query in queries:\n",
        "        if query[0] == 1:  # Запрос на вывод топ-k объектов\n",
        "            k = query[1]\n",
        "            # Получаем индексы топ-k объектов\n",
        "            top_k_indices = sorted(range(d), key=lambda x: (-relevance[x], x))[:k]\n",
        "            results.append(\" \".join(str(idx + 1) for idx in top_k_indices))\n",
        "        elif query[0] == 2:  # Запрос на изменение признака\n",
        "            i, j, v = query[1] - 1, query[2] - 1, query[3]\n",
        "            # Обновляем релевантность объекта\n",
        "            relevance[i] -= a[j] * features[i][j]\n",
        "            features[i][j] = v\n",
        "            relevance[i] += a[j] * features[i][j]\n",
        "\n",
        "    return results\n",
        "\n",
        "n = 2\n",
        "a = [1, 100]\n",
        "d = 10\n",
        "features = [\n",
        "    [1, 2],\n",
        "    [2, 1],\n",
        "    [3, 1],\n",
        "    [4, 1],\n",
        "    [5, 1],\n",
        "    [6, 1],\n",
        "    [7, 1],\n",
        "    [8, 1],\n",
        "    [9, 1],\n",
        "    [10, 1],\n",
        "]\n",
        "q = 4\n",
        "queries = [\n",
        "    [1, 2],\n",
        "    [1, 10],\n",
        "    [2, 4, 1, 1000],\n",
        "    [1, 10],\n",
        "]\n",
        "\n",
        "\n",
        "results = process_queries(n, a, d, features, q, queries)\n",
        "\n",
        "for result in results:\n",
        "    print(result)\n"
      ]
    }
  ]
}