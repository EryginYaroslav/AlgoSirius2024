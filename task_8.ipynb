{
  "nbformat": 4,
  "nbformat_minor": 0,
  "metadata": {
    "colab": {
      "provenance": [],
      "authorship_tag": "ABX9TyOGbKL4n2JzfHUvWtwPK48+",
      "include_colab_link": true
    },
    "kernelspec": {
      "name": "python3",
      "display_name": "Python 3"
    },
    "language_info": {
      "name": "python"
    }
  },
  "cells": [
    {
      "cell_type": "markdown",
      "metadata": {
        "id": "view-in-github",
        "colab_type": "text"
      },
      "source": [
        "<a href=\"https://colab.research.google.com/github/EryginYaroslav/AlgoSirius2024/blob/main/task_8.ipynb\" target=\"_parent\"><img src=\"https://colab.research.google.com/assets/colab-badge.svg\" alt=\"Open In Colab\"/></a>"
      ]
    },
    {
      "cell_type": "code",
      "execution_count": 18,
      "metadata": {
        "colab": {
          "base_uri": "https://localhost:8080/"
        },
        "id": "qIujhGLCAnba",
        "outputId": "46ec2858-2082-4d68-d8c8-7ccf45274cab"
      },
      "outputs": [
        {
          "output_type": "stream",
          "name": "stdout",
          "text": [
            "Оптимальное сопоставление (строка -> столбец):\n",
            "0 -> 1\n",
            "1 -> 0\n",
            "2 -> 2\n",
            "Минимальная стоимость: 5\n"
          ]
        }
      ],
      "source": [
        "import numpy as np\n",
        "\n",
        "class HungarianAlgorithm:\n",
        "    def __init__(self, cost_matrix):\n",
        "        self.original_cost_matrix = np.array(cost_matrix)  # Оригинальная матрица стоимости.\n",
        "        self.cost_matrix = np.array(cost_matrix)\n",
        "        self.n = self.cost_matrix.shape[0]  # Размер матрицы.\n",
        "        self.row_covered = np.zeros(self.n, dtype=bool)\n",
        "        self.col_covered = np.zeros(self.n, dtype=bool)\n",
        "        self.marked = np.zeros((self.n, self.n), dtype=int)\n",
        "        self.path = []\n",
        "\n",
        "    def step1(self):\n",
        "        for i in range(self.n):\n",
        "            self.cost_matrix[i] -= np.min(self.cost_matrix[i])\n",
        "\n",
        "    def step2(self):\n",
        "        for i in range(self.n):\n",
        "            for j in range(self.n):\n",
        "                if self.cost_matrix[i, j] == 0 and not self.row_covered[i] and not self.col_covered[j]:\n",
        "                    self.marked[i, j] = 1\n",
        "                    self.row_covered[i] = True\n",
        "                    self.col_covered[j] = True\n",
        "        self.row_covered[:] = False\n",
        "        self.col_covered[:] = False\n",
        "\n",
        "    def step3(self):\n",
        "        for i in range(self.n):\n",
        "            for j in range(self.n):\n",
        "                if self.marked[i, j] == 1:\n",
        "                    self.col_covered[j] = True\n",
        "        return np.sum(self.col_covered) == self.n\n",
        "\n",
        "    def step4(self):\n",
        "        while True:\n",
        "            row, col = self.find_a_zero()\n",
        "            if row is None:\n",
        "                return\n",
        "            self.marked[row, col] = 2\n",
        "            star_col = np.where(self.marked[row] == 1)[0]\n",
        "            if len(star_col) == 0:\n",
        "                self.path.append((row, col))\n",
        "                self.step5()\n",
        "                return\n",
        "            else:\n",
        "                self.row_covered[row] = True\n",
        "                self.col_covered[star_col[0]] = False\n",
        "\n",
        "    def step5(self):\n",
        "        while True:\n",
        "            row, col = self.path[-1]\n",
        "            star_row = np.where(self.marked[:, col] == 1)[0]\n",
        "            if len(star_row) > 0:\n",
        "                self.path.append((star_row[0], col))\n",
        "            else:\n",
        "                break\n",
        "            star_col = np.where(self.marked[row] == 2)[0]\n",
        "            self.path.append((row, star_col[0]))\n",
        "\n",
        "        for r, c in self.path:\n",
        "            self.marked[r, c] = 1 if self.marked[r, c] != 1 else 0\n",
        "\n",
        "        self.row_covered[:] = False\n",
        "        self.col_covered[:] = False\n",
        "        self.path = []\n",
        "\n",
        "    def find_a_zero(self):\n",
        "        for i in range(self.n):\n",
        "            for j in range(self.n):\n",
        "                if self.cost_matrix[i, j] == 0 and not self.row_covered[i] and not self.col_covered[j]:\n",
        "                    return i, j\n",
        "        return None, None\n",
        "\n",
        "    def step6(self):\n",
        "        min_val = np.min(self.cost_matrix[~self.row_covered][:, ~self.col_covered])\n",
        "        for i in range(self.n):\n",
        "            if self.row_covered[i]:\n",
        "                self.cost_matrix[i] += min_val\n",
        "        for j in range(self.n):\n",
        "            if not self.col_covered[j]:\n",
        "                self.cost_matrix[:, j] -= min_val\n",
        "\n",
        "    def solve(self):\n",
        "        self.step1()\n",
        "        self.step2()\n",
        "        while not self.step3():\n",
        "            self.step4()\n",
        "            self.step6()\n",
        "        # Оптимальное сопоставление\n",
        "        result = [(i, np.where(self.marked[i] == 1)[0][0]) for i in range(self.n)]\n",
        "        # Рассчитать минимальную стоимость по оригинальной матрице.\n",
        "        total_cost = sum(self.original_cost_matrix[i, j] for i, j in result)\n",
        "        return result, total_cost\n",
        "\n",
        "\n",
        "# Пример использования\n",
        "if __name__ == \"__main__\":\n",
        "    # Матрица стоимости\n",
        "    cost_matrix = [\n",
        "        [4, 1, 3],\n",
        "        [2, 0, 5],\n",
        "        [3, 2, 2]\n",
        "    ]\n",
        "\n",
        "    # Решение\n",
        "    hungarian = HungarianAlgorithm(cost_matrix)\n",
        "    result, total_cost = hungarian.solve()\n",
        "\n",
        "    print(\"Оптимальное сопоставление (строка -> столбец):\")\n",
        "    for row, col in result:\n",
        "        print(f\"{row} -> {col}\")\n",
        "    print(f\"Минимальная стоимость: {total_cost}\")\n"
      ]
    }
  ]
}