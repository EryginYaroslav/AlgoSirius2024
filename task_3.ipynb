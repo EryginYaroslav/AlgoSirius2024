{
  "nbformat": 4,
  "nbformat_minor": 0,
  "metadata": {
    "colab": {
      "provenance": [],
      "authorship_tag": "ABX9TyOAqZatZJK4q1iArTwq1l7B",
      "include_colab_link": true
    },
    "kernelspec": {
      "name": "python3",
      "display_name": "Python 3"
    },
    "language_info": {
      "name": "python"
    }
  },
  "cells": [
    {
      "cell_type": "markdown",
      "metadata": {
        "id": "view-in-github",
        "colab_type": "text"
      },
      "source": [
        "<a href=\"https://colab.research.google.com/github/EryginYaroslav/AlgoSirius2024/blob/main/task_2.ipynb\" target=\"_parent\"><img src=\"https://colab.research.google.com/assets/colab-badge.svg\" alt=\"Open In Colab\"/></a>"
      ]
    },
    {
      "cell_type": "code",
      "execution_count": 6,
      "metadata": {
        "colab": {
          "base_uri": "https://localhost:8080/"
        },
        "id": "qIujhGLCAnba",
        "outputId": "5d117aef-2713-4ca3-b4ac-667c4675f9bf"
      },
      "outputs": [
        {
          "output_type": "stream",
          "name": "stdout",
          "text": [
            "Исходное дерево: [3, 4, 5, 6, 8, 10, 12, 15, 16, 18, 20]\n",
            "Инверсированное дерево: [20, 18, 16, 15, 12, 10, 8, 6, 5, 4, 3]\n"
          ]
        }
      ],
      "source": [
        "class TreeNode:\n",
        "    def __init__(self, value):\n",
        "        self.value = value\n",
        "        self.left = None\n",
        "        self.right = None\n",
        "\n",
        "def invert_tree(root):\n",
        "    if root is None:\n",
        "        return None\n",
        "    root.left, root.right = invert_tree(root.right), invert_tree(root.left)\n",
        "    return root\n",
        "\n",
        "def inorder_traversal(root, result=None):\n",
        "    if result is None:\n",
        "        result = []\n",
        "    if root is not None:\n",
        "        inorder_traversal(root.left, result)\n",
        "        result.append(root.value)\n",
        "        inorder_traversal(root.right, result)\n",
        "    return result\n",
        "\n",
        "root = TreeNode(10)\n",
        "root.left = TreeNode(6)\n",
        "root.right = TreeNode(15)\n",
        "\n",
        "root.left.left = TreeNode(4)\n",
        "root.left.right = TreeNode(8)\n",
        "root.right.left = TreeNode(12)\n",
        "root.right.right = TreeNode(18)\n",
        "\n",
        "root.left.left.left = TreeNode(3)\n",
        "root.left.left.right = TreeNode(5)\n",
        "root.right.right.left = TreeNode(16)\n",
        "root.right.right.right = TreeNode(20)\n",
        "\n",
        "print(\"Исходное дерево:\", inorder_traversal(root))\n",
        "invert_tree(root)\n",
        "print(\"Инверсированное дерево:\", inorder_traversal(root))"
      ]
    }
  ]
}
