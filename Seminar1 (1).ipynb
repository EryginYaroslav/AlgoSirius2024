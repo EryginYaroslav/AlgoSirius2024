{
 "cells": [
  {
   "cell_type": "code",
   "execution_count": 117,
   "id": "1b8d2c7c-31ce-4401-86d4-df6f9b575b8d",
   "metadata": {},
   "outputs": [],
   "source": [
    "class Node():\n",
    "    def __init__(self, d):\n",
    "        self.data = d\n",
    "        self.next = None\n",
    "\n",
    "\n",
    "class LinkedList():\n",
    "    def __init__(self):\n",
    "        self.head = None\n",
    "        self.size = 0\n",
    "\n",
    "    def get_last(self):\n",
    "        iter = self.head\n",
    "        if iter is not None:\n",
    "            while iter.next is not None:\n",
    "                iter = iter.next\n",
    "            return iter\n",
    "        return None\n",
    "\n",
    "    def __get_last_rec(self, node):\n",
    "        if node.next is None:\n",
    "            return node\n",
    "        else:\n",
    "            return self.__get_last_rec(node.next)\n",
    "\n",
    "    def get_last_rec(self):\n",
    "        if self.head is None:\n",
    "            return None\n",
    "        return self.__get_last_rec(self.head)\n",
    "    \n",
    "    def add(self, data):\n",
    "        new_node = Node(data)\n",
    "        if self.head is None:\n",
    "            self.head = new_node\n",
    "        else:\n",
    "            last = self.get_last_rec()\n",
    "            last.next = new_node\n",
    "        self.size += 1\n",
    "\n",
    "    def __print_list(self, node):\n",
    "        print(node.data)\n",
    "        if node.next is not None:\n",
    "            self.__print_list(node.next)\n",
    "    \n",
    "    def print_list(self):\n",
    "        if self.head is not None:\n",
    "            self.__print_list(self.head)\n",
    "\n",
    "    def insert(self, data, n):\n",
    "        if n < self.size:\n",
    "            prev = self.get_nth_elem(n-1)\n",
    "            new_node = Node(data)\n",
    "            if prev is not None:\n",
    "                iter = prev.next\n",
    "                prev.next = new_node\n",
    "                new_node.next = iter\n",
    "            else:\n",
    "                new_node.next = self.head\n",
    "                self.head = new_node\n",
    "            self.size += 1\n",
    "\n",
    "    def get_nth_elem(self, n):\n",
    "        iter = None\n",
    "        if  0 <= n < self.size:\n",
    "            iter = self.head\n",
    "            for i in range(n):\n",
    "                iter = iter.next\n",
    "        return iter\n",
    "        \n",
    "    def delete(self, n):\n",
    "        if n < self.size:\n",
    "            prev = self.get_nth_elem(n-1)\n",
    "            if prev is not None:\n",
    "                iter = prev.next\n",
    "                prev.next = iter.next\n",
    "            else:\n",
    "                self.head = self.head.next\n",
    "        \n"
   ]
  },
  {
   "cell_type": "code",
   "execution_count": 118,
   "id": "a4db5882-7814-46bc-9e8e-4ab12eec5169",
   "metadata": {},
   "outputs": [],
   "source": [
    "l = LinkedList()\n",
    "l.add(0)"
   ]
  },
  {
   "cell_type": "code",
   "execution_count": 119,
   "id": "fc6c0786-db18-4903-8fb9-8b87faeb999d",
   "metadata": {},
   "outputs": [
    {
     "data": {
      "text/plain": [
       "0"
      ]
     },
     "execution_count": 119,
     "metadata": {},
     "output_type": "execute_result"
    }
   ],
   "source": [
    "l.get_last().data"
   ]
  },
  {
   "cell_type": "code",
   "execution_count": 120,
   "id": "3e0360fb-280b-4c27-a9d8-bb6c9d1bff4b",
   "metadata": {},
   "outputs": [
    {
     "data": {
      "text/plain": [
       "1"
      ]
     },
     "execution_count": 120,
     "metadata": {},
     "output_type": "execute_result"
    }
   ],
   "source": [
    "l.add(1)\n",
    "l.get_last().data"
   ]
  },
  {
   "cell_type": "code",
   "execution_count": 121,
   "id": "482a2706-a167-4ede-b564-14fd3b7d6565",
   "metadata": {},
   "outputs": [
    {
     "data": {
      "text/plain": [
       "2"
      ]
     },
     "execution_count": 121,
     "metadata": {},
     "output_type": "execute_result"
    }
   ],
   "source": [
    "l.size"
   ]
  },
  {
   "cell_type": "code",
   "execution_count": 122,
   "id": "bc03e93f-5eba-48fe-959d-2e443701e6fa",
   "metadata": {},
   "outputs": [
    {
     "name": "stdout",
     "output_type": "stream",
     "text": [
      "0\n",
      "1\n"
     ]
    }
   ],
   "source": [
    "l.print_list()"
   ]
  },
  {
   "cell_type": "code",
   "execution_count": 123,
   "id": "547f1d23-7b9c-4bb2-93c2-c93f2ce6a262",
   "metadata": {},
   "outputs": [],
   "source": [
    "l.insert(2, 1)"
   ]
  },
  {
   "cell_type": "code",
   "execution_count": 124,
   "id": "b36da509-5625-4868-923c-41d43be461b9",
   "metadata": {},
   "outputs": [
    {
     "name": "stdout",
     "output_type": "stream",
     "text": [
      "0\n",
      "2\n",
      "1\n"
     ]
    }
   ],
   "source": [
    "l.print_list()"
   ]
  },
  {
   "cell_type": "code",
   "execution_count": 125,
   "id": "3acd722a-ac59-4ebb-a0cf-19f08729864e",
   "metadata": {},
   "outputs": [],
   "source": [
    "l.insert(3, 0)"
   ]
  },
  {
   "cell_type": "code",
   "execution_count": 126,
   "id": "7a38b00b-26cb-437d-8584-ea388ac01aba",
   "metadata": {},
   "outputs": [
    {
     "name": "stdout",
     "output_type": "stream",
     "text": [
      "3\n",
      "0\n",
      "2\n",
      "1\n"
     ]
    }
   ],
   "source": [
    "l.print_list()"
   ]
  },
  {
   "cell_type": "code",
   "execution_count": 127,
   "id": "de847e56-fdc6-4072-829c-c3dce4d02199",
   "metadata": {},
   "outputs": [],
   "source": [
    "l.insert(4, 2)"
   ]
  },
  {
   "cell_type": "code",
   "execution_count": 128,
   "id": "e6f0872e-4348-4acd-aa76-0f5c651807bd",
   "metadata": {},
   "outputs": [
    {
     "name": "stdout",
     "output_type": "stream",
     "text": [
      "3\n",
      "0\n",
      "4\n",
      "2\n",
      "1\n"
     ]
    }
   ],
   "source": [
    "l.print_list()"
   ]
  },
  {
   "cell_type": "code",
   "execution_count": 129,
   "id": "26772900-2dc5-46de-abfd-0f031a1a9c8e",
   "metadata": {},
   "outputs": [
    {
     "name": "stdout",
     "output_type": "stream",
     "text": [
      "0\n",
      "4\n",
      "2\n",
      "1\n"
     ]
    }
   ],
   "source": [
    "l.delete(0)\n",
    "l.print_list()"
   ]
  },
  {
   "cell_type": "code",
   "execution_count": 130,
   "id": "308ca5d0-1727-4de2-a5a3-fb1c14a930a6",
   "metadata": {},
   "outputs": [
    {
     "name": "stdout",
     "output_type": "stream",
     "text": [
      "0\n",
      "4\n",
      "1\n"
     ]
    }
   ],
   "source": [
    "l.delete(2)\n",
    "l.print_list()"
   ]
  },
  {
   "cell_type": "code",
   "execution_count": 131,
   "id": "78b00510-223b-4692-bc32-62f2d6eb7a56",
   "metadata": {},
   "outputs": [
    {
     "name": "stdout",
     "output_type": "stream",
     "text": [
      "0\n",
      "4\n",
      "1\n"
     ]
    }
   ],
   "source": [
    "l.delete(10)\n",
    "l.print_list()"
   ]
  },
  {
   "cell_type": "code",
   "execution_count": 132,
   "id": "1ea3348f-0b04-479b-ba05-db77fab6844b",
   "metadata": {},
   "outputs": [
    {
     "name": "stdout",
     "output_type": "stream",
     "text": [
      "0\n",
      "4\n"
     ]
    }
   ],
   "source": [
    "l.delete(2)\n",
    "l.print_list()"
   ]
  },
  {
   "cell_type": "code",
   "execution_count": 133,
   "id": "3f196236-d6dc-4b96-b43a-13e430aaed91",
   "metadata": {},
   "outputs": [],
   "source": []
  },
  {
   "cell_type": "code",
   "execution_count": null,
   "id": "834afd04-1535-4f59-8752-49e04557fe25",
   "metadata": {},
   "outputs": [],
   "source": [
    "quick_sort()"
   ]
  }
 ],
 "metadata": {
  "kernelspec": {
   "display_name": "Python 3 (ipykernel)",
   "language": "python",
   "name": "python3"
  },
  "language_info": {
   "codemirror_mode": {
    "name": "ipython",
    "version": 3
   },
   "file_extension": ".py",
   "mimetype": "text/x-python",
   "name": "python",
   "nbconvert_exporter": "python",
   "pygments_lexer": "ipython3",
   "version": "3.10.12"
  }
 },
 "nbformat": 4,
 "nbformat_minor": 5
}
